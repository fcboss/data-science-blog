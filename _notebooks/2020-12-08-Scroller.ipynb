{
 "cells": [
  {
   "cell_type": "markdown",
   "metadata": {},
   "source": [
    "# Syncing Audiobooks and  Ebooks with Speech Recognition"
   ]
  },
  {
   "cell_type": "markdown",
   "metadata": {},
   "source": [
    "I'm a huge fan of audiobooks because of how faster it is to listen to an audiobook than actually reading it. However, I've always felt that I absorbed the material much better when I put the time to sit down and read the book. Some recent studies also suggest the reality of this phenomenon ([see here](https://time.com/5388681/audiobooks-reading-books/)). Therefore, the concept of reading and listening at the same time has been appealing. "
   ]
  },
  {
   "cell_type": "markdown",
   "metadata": {},
   "source": [
    "In the past few years, the only way to do this would be to get the audiobook and the ebook separately and to follow along with the book while the audio played in the background. But a much better way to smooth this experience would be to have the ebook autoscroll to the speed of the spoken word. Audible introduced their product called Immersive Reading in 2012, but it only became popular in the last few years and its price is not great."
   ]
  },
  {
   "cell_type": "markdown",
   "metadata": {},
   "source": [
    "![audible](images/audible_smaller.jpg) ![audible](images/KCP_FeatureDoc_DeviceSwap._CB350602784_.jpg) \n",
    "\n"
   ]
  },
  {
   "cell_type": "markdown",
   "metadata": {},
   "source": [
    "To the best of my knowledge, there are currently no free softwares that offer this service and so I started wondering how hard could it be."
   ]
  },
  {
   "cell_type": "markdown",
   "metadata": {},
   "source": [
    "## Preliminary Brainstorm"
   ]
  },
  {
   "cell_type": "markdown",
   "metadata": {},
   "source": [
    "The problem consists in finding, for a given portion of the audiobook, the location of the corresponding text in the book. \n",
    "\n",
    "I was very optimistic that I could solve a problem like this a priori, because we do not need our model to work very well at the word level (as it is usual in speech processing), but we only need to get roughly right which sentence the audio is pointg to and then scroll to that paragraph. It was also clear that the span of sentences to be looked for at each time is not the whole book since, in the first seconds of the audiobook, the corresponding text will also be in the first sentences of the file.\n",
    "\n",
    "So, our model should receive a chunk of the audiobook and a set of chuncks of text as input and it should predict which chunk of text best fits the audio.\n",
    "\n",
    "Some of the first few ideas for solutions and possible obstacles from the initial brainstorm consisted in:\n",
    "* Splitting the audio in equal time spans vs detecting the limits of each sentence/ word.\n",
    "* Converting the audio chuncks to spectograms and use that to train a neural network such as:\n",
    " * A CNN \n",
    " * An RNN\n",
    " * A Siamese model\n",
    "* Using a pretrained model to predict the text for each audio and use that as the input of a simpler model.\n",
    "\n",
    "The last one was obviously the first one to try, even though the junior data scientist instinct kicked in by making me dream with different NN architectures for solving a possibly simple model."
   ]
  },
  {
   "cell_type": "markdown",
   "metadata": {},
   "source": []
  },
  {
   "cell_type": "code",
   "execution_count": null,
   "metadata": {},
   "outputs": [],
   "source": []
  },
  {
   "cell_type": "code",
   "execution_count": null,
   "metadata": {},
   "outputs": [],
   "source": []
  }
 ],
 "metadata": {
  "kernelspec": {
   "display_name": "Python 3",
   "language": "python",
   "name": "python3"
  },
  "language_info": {
   "codemirror_mode": {
    "name": "ipython",
    "version": 3
   },
   "file_extension": ".py",
   "mimetype": "text/x-python",
   "name": "python",
   "nbconvert_exporter": "python",
   "pygments_lexer": "ipython3",
   "version": "3.7.6"
  }
 },
 "nbformat": 4,
 "nbformat_minor": 4
}
